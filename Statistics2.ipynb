{
 "cells": [
  {
   "cell_type": "markdown",
   "id": "e05e0647",
   "metadata": {},
   "source": [
    "#### Q1. What are the three measures of central tendency?"
   ]
  },
  {
   "cell_type": "markdown",
   "id": "28d0da20",
   "metadata": {},
   "source": [
    "The three measures of central tendency are:\n",
    "\n",
    "1.Mean\n",
    "\n",
    "2.Median\n",
    "\n",
    "3.Mode"
   ]
  },
  {
   "cell_type": "markdown",
   "id": "81e054e0",
   "metadata": {},
   "source": [
    "#### Q2. What is the difference between the mean, median, and mode? How are they used to measure the central tendency of a dataset?"
   ]
  },
  {
   "cell_type": "markdown",
   "id": "1fd1c2fe",
   "metadata": {},
   "source": [
    "##### Mean: \n",
    "          it is called an average.\n",
    "    mean=(summ of observations)/number of observations.\n",
    "    It is basically used for problen i calculating the average values.\n",
    "#### Median:\n",
    "           it is the mid value.\n",
    "     The median is useful when the dataset contains outliers or is skewed because it is not influenced by extreme values. It provides a better representation of the central value in such cases.\n",
    "#### Mode:\n",
    "         the value that appears most frequently in the dataset.\n",
    "      The mode is employed for categorical data or discrete data, such as the most common color, most frequent day of the week, or the most common type of car on a street\n",
    "    "
   ]
  },
  {
   "cell_type": "markdown",
   "id": "4b61863c",
   "metadata": {},
   "source": [
    "#### Q3. Measure the three measures of central tendency for the given height data:\n",
    "[178,177,176,177,178.2,178,175,179,180,175,178.9,176.2,177,172.5,178,176.5]"
   ]
  },
  {
   "cell_type": "code",
   "execution_count": 1,
   "id": "e50fbcbc",
   "metadata": {},
   "outputs": [],
   "source": [
    "data=[178,177,176,177,178.2,178,175,179,180,175,178.9,176.2,177,172.5,178,176.5]\n",
    "import numpy as np"
   ]
  },
  {
   "cell_type": "code",
   "execution_count": 2,
   "id": "88e9cdbc",
   "metadata": {},
   "outputs": [
    {
     "data": {
      "text/plain": [
       "177.01875"
      ]
     },
     "execution_count": 2,
     "metadata": {},
     "output_type": "execute_result"
    }
   ],
   "source": [
    "np.mean(data)"
   ]
  },
  {
   "cell_type": "code",
   "execution_count": 3,
   "id": "c0eef296",
   "metadata": {},
   "outputs": [
    {
     "data": {
      "text/plain": [
       "177.0"
      ]
     },
     "execution_count": 3,
     "metadata": {},
     "output_type": "execute_result"
    }
   ],
   "source": [
    "np.median(data)"
   ]
  },
  {
   "cell_type": "code",
   "execution_count": 4,
   "id": "1b85755a",
   "metadata": {},
   "outputs": [],
   "source": [
    "from scipy import stats"
   ]
  },
  {
   "cell_type": "code",
   "execution_count": 5,
   "id": "e28aa114",
   "metadata": {},
   "outputs": [
    {
     "data": {
      "text/plain": [
       "ModeResult(mode=177.0, count=3)"
      ]
     },
     "execution_count": 5,
     "metadata": {},
     "output_type": "execute_result"
    }
   ],
   "source": [
    "stats.mode(data)"
   ]
  },
  {
   "cell_type": "markdown",
   "id": "4f4b2fe6",
   "metadata": {},
   "source": [
    "#### Q4. Find the standard deviation for the given data:\n",
    "[178,177,176,177,178.2,178,175,179,180,175,178.9,176.2,177,172.5,178,176.5]"
   ]
  },
  {
   "cell_type": "code",
   "execution_count": 6,
   "id": "e5a38203",
   "metadata": {},
   "outputs": [
    {
     "data": {
      "text/plain": [
       "1.7885814036548633"
      ]
     },
     "execution_count": 6,
     "metadata": {},
     "output_type": "execute_result"
    }
   ],
   "source": [
    "np.std(data)"
   ]
  },
  {
   "cell_type": "markdown",
   "id": "2f62ad95",
   "metadata": {},
   "source": [
    "#### Q5. How are measures of dispersion such as range, variance, and standard deviation used to describe the spread of a dataset? Provide an example."
   ]
  },
  {
   "cell_type": "markdown",
   "id": "292b211a",
   "metadata": {},
   "source": [
    "#### variance:\n",
    "as variance is low, spread of data is low\n",
    "as the variance is high ,spread of data is high\n",
    "#### range:\n",
    "Range = Max Value - Min Value\n",
    "It provides a rough idea of how spread out the data is but is sensitive to outliers.\n",
    "Example: Consider the following dataset of exam scores: [60, 65, 70, 75, 80]. The range is calculated as follows: Range = 80 (Max) - 60 (Min) = 20. In this case, the range is 20, indicating that the scores vary by 20 points.\n",
    "\n",
    "#### Standard Deviation: \n",
    "Standard Deviation = √62.5 ≈ 7.91\n",
    "The standard deviation indicates that, on average, exam scores deviate from the mean by approximately 7.91 points.\n",
    "\n",
    " The range is a simple indicator of how spread out the data is, while variance and standard deviation provide more precise and statistically meaningful measures of dispersion"
   ]
  },
  {
   "cell_type": "markdown",
   "id": "0fbe76ec",
   "metadata": {},
   "source": [
    "#### Q6. What is a Venn diagram?"
   ]
  },
  {
   "cell_type": "markdown",
   "id": "37465d41",
   "metadata": {},
   "source": [
    "graphical representation of a relationship between sets\n",
    "\n",
    "it is represented aas overlapping circles"
   ]
  },
  {
   "cell_type": "markdown",
   "id": "6e82e3a6",
   "metadata": {},
   "source": [
    "#### Q7. For the two given sets A = (2,3,4,5,6,7) & B = (0,2,6,8,10). Find:\n",
    "(i) AnB\n",
    "(ii) A ⋃ B"
   ]
  },
  {
   "cell_type": "markdown",
   "id": "336fe7cd",
   "metadata": {},
   "source": [
    "(i) A n B={2,6}\n",
    "\n",
    "(ii) A ⋃ B={0,2,3,4,5,6,7,8,10}"
   ]
  },
  {
   "cell_type": "markdown",
   "id": "655238ce",
   "metadata": {},
   "source": [
    "#### Q8. What do you understand about skewness in data?"
   ]
  },
  {
   "cell_type": "markdown",
   "id": "d747cd01",
   "metadata": {},
   "source": [
    "#### Skewness :\n",
    "it is a assymetrical data.\n",
    "\n",
    "#### There are three types:\n",
    "1.no skewness:mean=median=mode\n",
    "\n",
    "2.left skewness:mean<median<mode\n",
    "\n",
    "3.right skewness:mean>meadian>mode"
   ]
  },
  {
   "cell_type": "markdown",
   "id": "85d24cf1",
   "metadata": {},
   "source": [
    "#### Q9. If a data is right skewed then what will be the position of median with respect to mean?"
   ]
  },
  {
   "cell_type": "markdown",
   "id": "dde77d08",
   "metadata": {},
   "source": [
    "right skewness: Mean> Median >Mode\n",
    "\n",
    "median is left to the mean position."
   ]
  },
  {
   "cell_type": "markdown",
   "id": "4e7980cd",
   "metadata": {},
   "source": [
    "#### Q10. Explain the difference between covariance and correlation. How are these measures used in statistical analysis?"
   ]
  },
  {
   "cell_type": "markdown",
   "id": "516246bf",
   "metadata": {},
   "source": [
    "#### Covariance:\n",
    "Covariance measures the degree to which two variables change together.\n",
    "\n",
    "cov can be posive ,negative,either Zero.\n",
    "\n",
    "Positive covariance implies that as one variable increases, the other tends to increase and one variable decreases, the other tends to decrease while negative covariance implies an inverse relationship. Zero covariance indicates no linear relationship.\n",
    "\n",
    "#### Correlation:\n",
    "The most common measure of correlation is the Pearson correlation coefficient.\n",
    "\n",
    "The Pearson correlation coefficient  ranges from -1 to 1. \n",
    "\n",
    "A positive value indicates a positive linear relationship, a negative value indicates a negative linear relationship and r=0 indicates no linear relationship"
   ]
  },
  {
   "cell_type": "markdown",
   "id": "f05da899",
   "metadata": {},
   "source": [
    "#### Q11. What is the formula for calculating the sample mean? Provide an example calculation for a dataset."
   ]
  },
  {
   "cell_type": "markdown",
   "id": "815f1b93",
   "metadata": {},
   "source": [
    "sample mean= summation(Xi)/n\n",
    "\n",
    "EX: Scores: 85, 92, 78, 88, 90, 95, 87, 91, 89, 84\n",
    "\n",
    "    sum(xi)=85+92+78+88+90+95+87+91+89+84=899\n",
    "    \n",
    "    n=10\n",
    "    \n",
    "    sample mean=899/10=89.9"
   ]
  },
  {
   "cell_type": "markdown",
   "id": "66162830",
   "metadata": {},
   "source": [
    "#### Q12. For a normal distribution data what is the relationship between its measure of central tendency?"
   ]
  },
  {
   "cell_type": "markdown",
   "id": "b83a71ee",
   "metadata": {},
   "source": [
    "Mean =Median= Mode"
   ]
  },
  {
   "cell_type": "markdown",
   "id": "e658feba",
   "metadata": {},
   "source": [
    "#### Q13. How is covariance different from correlation?"
   ]
  },
  {
   "cell_type": "markdown",
   "id": "d00dcae2",
   "metadata": {},
   "source": [
    "#### Covariance:\n",
    "Covariance measures the degree to which two variables change together.\n",
    "\n",
    "cov can be posive ,negative,either Zero.\n",
    "\n",
    "Positive covariance implies that as one variable increases, the other tends to increase and one variable decreases, the other tends to decrease while negative covariance implies an inverse relationship. Zero covariance indicates no linear relationship.\n",
    "\n",
    "#### Correlation:\n",
    "The most common measure of correlation is the Pearson correlation coefficient.\n",
    "\n",
    "The Pearson correlation coefficient  ranges from -1 to 1. \n",
    "\n",
    "A positive value indicates a positive linear relationship, a negative value indicates a negative linear relationship and r=0 indicates no linear relationship"
   ]
  },
  {
   "cell_type": "markdown",
   "id": "b78db36f",
   "metadata": {},
   "source": [
    "#### Q14. How do outliers affect measures of central tendency and dispersion? Provide an example."
   ]
  },
  {
   "cell_type": "markdown",
   "id": "e585a718",
   "metadata": {},
   "source": [
    "#### Measures of central tendency:\n",
    "#### Mean:\n",
    " mean is more affected by outliners.\n",
    "    For example:consider a dataset of incomes for a group of people:\n",
    "\n",
    "Income: $30,000, $40,000, $45,000, $50,000, $200,000\n",
    "\n",
    "The mean income without the outlier is $41,000, but with the outlier, it becomes $73,000, significantly higher.\n",
    "\n",
    "#### Median:\n",
    "Median is more affected by outliners.\n",
    "\n",
    "In the example above, the median income is $45,000, and it remains the same whether the outlier is present or not.\n",
    "\n",
    "#### Mode:\n",
    "The mode, which is the most frequently occurring value, is also less affected by outliers. In most cases, the mode doesn't change with the presence of outliers.\n",
    "\n",
    "#### Measures of Dispersion:\n",
    "#### Range:\n",
    "In the income example, without the outlier, the range is $170,000, but with the outlier, it becomes $170,000 (the same). This is because the range depends on the extreme values, and a single outlier can be an extreme value.\n",
    "\n",
    "#### Variance and Standard Deviation: \n",
    "Outliers can greatly influence the variance and standard deviation,\n"
   ]
  },
  {
   "cell_type": "code",
   "execution_count": null,
   "id": "8306af8c",
   "metadata": {},
   "outputs": [],
   "source": []
  }
 ],
 "metadata": {
  "kernelspec": {
   "display_name": "Python 3 (ipykernel)",
   "language": "python",
   "name": "python3"
  },
  "language_info": {
   "codemirror_mode": {
    "name": "ipython",
    "version": 3
   },
   "file_extension": ".py",
   "mimetype": "text/x-python",
   "name": "python",
   "nbconvert_exporter": "python",
   "pygments_lexer": "ipython3",
   "version": "3.11.2"
  }
 },
 "nbformat": 4,
 "nbformat_minor": 5
}
